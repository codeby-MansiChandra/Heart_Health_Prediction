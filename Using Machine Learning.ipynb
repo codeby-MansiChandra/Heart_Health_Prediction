{
 "cells": [
  {
   "cell_type": "markdown",
   "id": "4b951195",
   "metadata": {},
   "source": [
    "# Heart Health Using Machine Learning "
   ]
  },
  {
   "cell_type": "code",
   "execution_count": 3,
   "id": "babc1dda",
   "metadata": {},
   "outputs": [],
   "source": [
    "import numpy as np\n",
    "import pandas as pd\n",
    "import matplotlib.pyplot as plt\n",
    "import seaborn as sns\n",
    "from sklearn.metrics import accuracy_score\n",
    "from sklearn.model_selection import train_test_split\n",
    "from sklearn.naive_bayes import GaussianNB\n",
    "from sklearn.linear_model import LogisticRegression\n",
    "from sklearn.neighbors import KNeighborsClassifier\n",
    "from sklearn.tree import DecisionTreeClassifier\n",
    "from sklearn.ensemble import RandomForestClassifier\n",
    "from sklearn.model_selection import GridSearchCV\n",
    "from sklearn import svm\n",
    "import xgboost as xgb\n",
    "from sklearn.preprocessing import LabelEncoder, StandardScaler, MinMaxScaler\n",
    "from sklearn.metrics import classification_report, confusion_matrix\n",
    "%matplotlib inline"
   ]
  },
  {
   "cell_type": "code",
   "execution_count": 4,
   "id": "c0cce44b",
   "metadata": {},
   "outputs": [
    {
     "data": {
      "text/html": [
       "<div>\n",
       "<style scoped>\n",
       "    .dataframe tbody tr th:only-of-type {\n",
       "        vertical-align: middle;\n",
       "    }\n",
       "\n",
       "    .dataframe tbody tr th {\n",
       "        vertical-align: top;\n",
       "    }\n",
       "\n",
       "    .dataframe thead th {\n",
       "        text-align: right;\n",
       "    }\n",
       "</style>\n",
       "<table border=\"1\" class=\"dataframe\">\n",
       "  <thead>\n",
       "    <tr style=\"text-align: right;\">\n",
       "      <th></th>\n",
       "      <th>Systolic Blood pressure</th>\n",
       "      <th>Diastolic Blood pressure</th>\n",
       "      <th>Age</th>\n",
       "      <th>Gender</th>\n",
       "      <th>Height</th>\n",
       "      <th>Weight</th>\n",
       "      <th>High low-density lipoprotein (LDL) cholesterol</th>\n",
       "      <th>Low-density lipoprotein (LDL) cholesterol</th>\n",
       "      <th>Blood Glucose level</th>\n",
       "      <th>Active smoking</th>\n",
       "      <th>Passive smoking</th>\n",
       "      <th>Obesity</th>\n",
       "      <th>Diet</th>\n",
       "      <th>Physical activity</th>\n",
       "      <th>Result</th>\n",
       "    </tr>\n",
       "  </thead>\n",
       "  <tbody>\n",
       "    <tr>\n",
       "      <th>0</th>\n",
       "      <td>120</td>\n",
       "      <td>80</td>\n",
       "      <td>30</td>\n",
       "      <td>1</td>\n",
       "      <td>140</td>\n",
       "      <td>40</td>\n",
       "      <td>5</td>\n",
       "      <td>5</td>\n",
       "      <td>30</td>\n",
       "      <td>1</td>\n",
       "      <td>1</td>\n",
       "      <td>15</td>\n",
       "      <td>1</td>\n",
       "      <td>1</td>\n",
       "      <td>3</td>\n",
       "    </tr>\n",
       "    <tr>\n",
       "      <th>1</th>\n",
       "      <td>110</td>\n",
       "      <td>60</td>\n",
       "      <td>35</td>\n",
       "      <td>0</td>\n",
       "      <td>150</td>\n",
       "      <td>43</td>\n",
       "      <td>8</td>\n",
       "      <td>8</td>\n",
       "      <td>40</td>\n",
       "      <td>0</td>\n",
       "      <td>1</td>\n",
       "      <td>16</td>\n",
       "      <td>0</td>\n",
       "      <td>1</td>\n",
       "      <td>4</td>\n",
       "    </tr>\n",
       "    <tr>\n",
       "      <th>2</th>\n",
       "      <td>115</td>\n",
       "      <td>65</td>\n",
       "      <td>40</td>\n",
       "      <td>1</td>\n",
       "      <td>160</td>\n",
       "      <td>50</td>\n",
       "      <td>10</td>\n",
       "      <td>10</td>\n",
       "      <td>50</td>\n",
       "      <td>1</td>\n",
       "      <td>0</td>\n",
       "      <td>17</td>\n",
       "      <td>1</td>\n",
       "      <td>0</td>\n",
       "      <td>3</td>\n",
       "    </tr>\n",
       "    <tr>\n",
       "      <th>3</th>\n",
       "      <td>100</td>\n",
       "      <td>70</td>\n",
       "      <td>45</td>\n",
       "      <td>0</td>\n",
       "      <td>170</td>\n",
       "      <td>55</td>\n",
       "      <td>15</td>\n",
       "      <td>15</td>\n",
       "      <td>60</td>\n",
       "      <td>0</td>\n",
       "      <td>0</td>\n",
       "      <td>18</td>\n",
       "      <td>0</td>\n",
       "      <td>0</td>\n",
       "      <td>4</td>\n",
       "    </tr>\n",
       "    <tr>\n",
       "      <th>4</th>\n",
       "      <td>105</td>\n",
       "      <td>75</td>\n",
       "      <td>50</td>\n",
       "      <td>1</td>\n",
       "      <td>180</td>\n",
       "      <td>60</td>\n",
       "      <td>20</td>\n",
       "      <td>20</td>\n",
       "      <td>70</td>\n",
       "      <td>1</td>\n",
       "      <td>0</td>\n",
       "      <td>19</td>\n",
       "      <td>1</td>\n",
       "      <td>0</td>\n",
       "      <td>2</td>\n",
       "    </tr>\n",
       "  </tbody>\n",
       "</table>\n",
       "</div>"
      ],
      "text/plain": [
       "   Systolic Blood pressure  Diastolic Blood pressure  Age  Gender  Height  \\\n",
       "0                      120                        80   30       1     140   \n",
       "1                      110                        60   35       0     150   \n",
       "2                      115                        65   40       1     160   \n",
       "3                      100                        70   45       0     170   \n",
       "4                      105                        75   50       1     180   \n",
       "\n",
       "   Weight  High low-density lipoprotein (LDL) cholesterol   \\\n",
       "0      40                                                5   \n",
       "1      43                                                8   \n",
       "2      50                                               10   \n",
       "3      55                                               15   \n",
       "4      60                                               20   \n",
       "\n",
       "   Low-density lipoprotein (LDL) cholesterol  Blood Glucose level  \\\n",
       "0                                          5                   30   \n",
       "1                                          8                   40   \n",
       "2                                         10                   50   \n",
       "3                                         15                   60   \n",
       "4                                         20                   70   \n",
       "\n",
       "   Active smoking  Passive smoking  Obesity  Diet  Physical activity  Result  \n",
       "0               1                1       15     1                  1       3  \n",
       "1               0                1       16     0                  1       4  \n",
       "2               1                0       17     1                  0       3  \n",
       "3               0                0       18     0                  0       4  \n",
       "4               1                0       19     1                  0       2  "
      ]
     },
     "execution_count": 4,
     "metadata": {},
     "output_type": "execute_result"
    }
   ],
   "source": [
    "dataset = pd.read_csv(\"data (2).csv\")\n",
    "dataset.head(5)"
   ]
  },
  {
   "cell_type": "code",
   "execution_count": 5,
   "id": "a9fa96a9",
   "metadata": {},
   "outputs": [
    {
     "data": {
      "text/plain": [
       "(200, 15)"
      ]
     },
     "execution_count": 5,
     "metadata": {},
     "output_type": "execute_result"
    }
   ],
   "source": [
    "dataset.shape"
   ]
  },
  {
   "cell_type": "code",
   "execution_count": 6,
   "id": "614e6bfd",
   "metadata": {},
   "outputs": [
    {
     "name": "stdout",
     "output_type": "stream",
     "text": [
      "<class 'pandas.core.frame.DataFrame'>\n",
      "RangeIndex: 200 entries, 0 to 199\n",
      "Data columns (total 15 columns):\n",
      " #   Column                                           Non-Null Count  Dtype\n",
      "---  ------                                           --------------  -----\n",
      " 0   Systolic Blood pressure                          200 non-null    int64\n",
      " 1   Diastolic Blood pressure                         200 non-null    int64\n",
      " 2   Age                                              200 non-null    int64\n",
      " 3   Gender                                           200 non-null    int64\n",
      " 4   Height                                           200 non-null    int64\n",
      " 5   Weight                                           200 non-null    int64\n",
      " 6   High low-density lipoprotein (LDL) cholesterol   200 non-null    int64\n",
      " 7   Low-density lipoprotein (LDL) cholesterol        200 non-null    int64\n",
      " 8   Blood Glucose level                              200 non-null    int64\n",
      " 9   Active smoking                                   200 non-null    int64\n",
      " 10  Passive smoking                                  200 non-null    int64\n",
      " 11  Obesity                                          200 non-null    int64\n",
      " 12  Diet                                             200 non-null    int64\n",
      " 13  Physical activity                                200 non-null    int64\n",
      " 14  Result                                           200 non-null    int64\n",
      "dtypes: int64(15)\n",
      "memory usage: 23.6 KB\n"
     ]
    }
   ],
   "source": [
    "dataset.info()"
   ]
  },
  {
   "cell_type": "code",
   "execution_count": 7,
   "id": "46a11f2d",
   "metadata": {},
   "outputs": [
    {
     "data": {
      "text/html": [
       "<div>\n",
       "<style scoped>\n",
       "    .dataframe tbody tr th:only-of-type {\n",
       "        vertical-align: middle;\n",
       "    }\n",
       "\n",
       "    .dataframe tbody tr th {\n",
       "        vertical-align: top;\n",
       "    }\n",
       "\n",
       "    .dataframe thead th {\n",
       "        text-align: right;\n",
       "    }\n",
       "</style>\n",
       "<table border=\"1\" class=\"dataframe\">\n",
       "  <thead>\n",
       "    <tr style=\"text-align: right;\">\n",
       "      <th></th>\n",
       "      <th>Systolic Blood pressure</th>\n",
       "      <th>Diastolic Blood pressure</th>\n",
       "      <th>Age</th>\n",
       "      <th>Gender</th>\n",
       "      <th>Height</th>\n",
       "      <th>Weight</th>\n",
       "      <th>High low-density lipoprotein (LDL) cholesterol</th>\n",
       "      <th>Low-density lipoprotein (LDL) cholesterol</th>\n",
       "      <th>Blood Glucose level</th>\n",
       "      <th>Active smoking</th>\n",
       "      <th>Passive smoking</th>\n",
       "      <th>Obesity</th>\n",
       "      <th>Diet</th>\n",
       "      <th>Physical activity</th>\n",
       "      <th>Result</th>\n",
       "    </tr>\n",
       "  </thead>\n",
       "  <tbody>\n",
       "    <tr>\n",
       "      <th>count</th>\n",
       "      <td>200.000000</td>\n",
       "      <td>200.00000</td>\n",
       "      <td>200.000000</td>\n",
       "      <td>200.000000</td>\n",
       "      <td>200.000000</td>\n",
       "      <td>200.000000</td>\n",
       "      <td>200.000000</td>\n",
       "      <td>200.000000</td>\n",
       "      <td>200.00000</td>\n",
       "      <td>200.000000</td>\n",
       "      <td>200.000000</td>\n",
       "      <td>200.000000</td>\n",
       "      <td>200.000000</td>\n",
       "      <td>200.000000</td>\n",
       "      <td>200.000000</td>\n",
       "    </tr>\n",
       "    <tr>\n",
       "      <th>mean</th>\n",
       "      <td>120.000000</td>\n",
       "      <td>71.85000</td>\n",
       "      <td>64.750000</td>\n",
       "      <td>0.550000</td>\n",
       "      <td>163.550000</td>\n",
       "      <td>82.400000</td>\n",
       "      <td>47.900000</td>\n",
       "      <td>68.650000</td>\n",
       "      <td>152.65000</td>\n",
       "      <td>0.550000</td>\n",
       "      <td>0.550000</td>\n",
       "      <td>28.350000</td>\n",
       "      <td>0.550000</td>\n",
       "      <td>0.550000</td>\n",
       "      <td>1.750000</td>\n",
       "    </tr>\n",
       "    <tr>\n",
       "      <th>std</th>\n",
       "      <td>16.331983</td>\n",
       "      <td>20.57533</td>\n",
       "      <td>17.896618</td>\n",
       "      <td>0.498742</td>\n",
       "      <td>12.706486</td>\n",
       "      <td>26.986689</td>\n",
       "      <td>28.289423</td>\n",
       "      <td>59.808131</td>\n",
       "      <td>73.24309</td>\n",
       "      <td>0.498742</td>\n",
       "      <td>0.498742</td>\n",
       "      <td>8.838444</td>\n",
       "      <td>0.498742</td>\n",
       "      <td>0.498742</td>\n",
       "      <td>1.413325</td>\n",
       "    </tr>\n",
       "    <tr>\n",
       "      <th>min</th>\n",
       "      <td>90.000000</td>\n",
       "      <td>40.00000</td>\n",
       "      <td>30.000000</td>\n",
       "      <td>0.000000</td>\n",
       "      <td>140.000000</td>\n",
       "      <td>40.000000</td>\n",
       "      <td>5.000000</td>\n",
       "      <td>5.000000</td>\n",
       "      <td>30.00000</td>\n",
       "      <td>0.000000</td>\n",
       "      <td>0.000000</td>\n",
       "      <td>15.000000</td>\n",
       "      <td>0.000000</td>\n",
       "      <td>0.000000</td>\n",
       "      <td>0.000000</td>\n",
       "    </tr>\n",
       "    <tr>\n",
       "      <th>25%</th>\n",
       "      <td>108.750000</td>\n",
       "      <td>53.75000</td>\n",
       "      <td>53.750000</td>\n",
       "      <td>0.000000</td>\n",
       "      <td>153.750000</td>\n",
       "      <td>63.750000</td>\n",
       "      <td>23.750000</td>\n",
       "      <td>23.750000</td>\n",
       "      <td>85.00000</td>\n",
       "      <td>0.000000</td>\n",
       "      <td>0.000000</td>\n",
       "      <td>19.750000</td>\n",
       "      <td>0.000000</td>\n",
       "      <td>0.000000</td>\n",
       "      <td>0.750000</td>\n",
       "    </tr>\n",
       "    <tr>\n",
       "      <th>50%</th>\n",
       "      <td>120.000000</td>\n",
       "      <td>76.50000</td>\n",
       "      <td>67.500000</td>\n",
       "      <td>1.000000</td>\n",
       "      <td>166.500000</td>\n",
       "      <td>79.500000</td>\n",
       "      <td>47.500000</td>\n",
       "      <td>47.500000</td>\n",
       "      <td>170.00000</td>\n",
       "      <td>1.000000</td>\n",
       "      <td>1.000000</td>\n",
       "      <td>31.000000</td>\n",
       "      <td>1.000000</td>\n",
       "      <td>1.000000</td>\n",
       "      <td>1.500000</td>\n",
       "    </tr>\n",
       "    <tr>\n",
       "      <th>75%</th>\n",
       "      <td>131.250000</td>\n",
       "      <td>82.75000</td>\n",
       "      <td>80.000000</td>\n",
       "      <td>1.000000</td>\n",
       "      <td>174.250000</td>\n",
       "      <td>96.250000</td>\n",
       "      <td>71.250000</td>\n",
       "      <td>92.500000</td>\n",
       "      <td>220.50000</td>\n",
       "      <td>1.000000</td>\n",
       "      <td>1.000000</td>\n",
       "      <td>36.250000</td>\n",
       "      <td>1.000000</td>\n",
       "      <td>1.000000</td>\n",
       "      <td>3.000000</td>\n",
       "    </tr>\n",
       "    <tr>\n",
       "      <th>max</th>\n",
       "      <td>150.000000</td>\n",
       "      <td>110.00000</td>\n",
       "      <td>90.000000</td>\n",
       "      <td>1.000000</td>\n",
       "      <td>180.000000</td>\n",
       "      <td>140.000000</td>\n",
       "      <td>95.000000</td>\n",
       "      <td>195.000000</td>\n",
       "      <td>240.00000</td>\n",
       "      <td>1.000000</td>\n",
       "      <td>1.000000</td>\n",
       "      <td>40.000000</td>\n",
       "      <td>1.000000</td>\n",
       "      <td>1.000000</td>\n",
       "      <td>4.000000</td>\n",
       "    </tr>\n",
       "  </tbody>\n",
       "</table>\n",
       "</div>"
      ],
      "text/plain": [
       "       Systolic Blood pressure  Diastolic Blood pressure         Age  \\\n",
       "count               200.000000                 200.00000  200.000000   \n",
       "mean                120.000000                  71.85000   64.750000   \n",
       "std                  16.331983                  20.57533   17.896618   \n",
       "min                  90.000000                  40.00000   30.000000   \n",
       "25%                 108.750000                  53.75000   53.750000   \n",
       "50%                 120.000000                  76.50000   67.500000   \n",
       "75%                 131.250000                  82.75000   80.000000   \n",
       "max                 150.000000                 110.00000   90.000000   \n",
       "\n",
       "           Gender      Height      Weight  \\\n",
       "count  200.000000  200.000000  200.000000   \n",
       "mean     0.550000  163.550000   82.400000   \n",
       "std      0.498742   12.706486   26.986689   \n",
       "min      0.000000  140.000000   40.000000   \n",
       "25%      0.000000  153.750000   63.750000   \n",
       "50%      1.000000  166.500000   79.500000   \n",
       "75%      1.000000  174.250000   96.250000   \n",
       "max      1.000000  180.000000  140.000000   \n",
       "\n",
       "       High low-density lipoprotein (LDL) cholesterol   \\\n",
       "count                                       200.000000   \n",
       "mean                                         47.900000   \n",
       "std                                          28.289423   \n",
       "min                                           5.000000   \n",
       "25%                                          23.750000   \n",
       "50%                                          47.500000   \n",
       "75%                                          71.250000   \n",
       "max                                          95.000000   \n",
       "\n",
       "       Low-density lipoprotein (LDL) cholesterol  Blood Glucose level  \\\n",
       "count                                 200.000000            200.00000   \n",
       "mean                                   68.650000            152.65000   \n",
       "std                                    59.808131             73.24309   \n",
       "min                                     5.000000             30.00000   \n",
       "25%                                    23.750000             85.00000   \n",
       "50%                                    47.500000            170.00000   \n",
       "75%                                    92.500000            220.50000   \n",
       "max                                   195.000000            240.00000   \n",
       "\n",
       "       Active smoking  Passive smoking     Obesity        Diet  \\\n",
       "count      200.000000       200.000000  200.000000  200.000000   \n",
       "mean         0.550000         0.550000   28.350000    0.550000   \n",
       "std          0.498742         0.498742    8.838444    0.498742   \n",
       "min          0.000000         0.000000   15.000000    0.000000   \n",
       "25%          0.000000         0.000000   19.750000    0.000000   \n",
       "50%          1.000000         1.000000   31.000000    1.000000   \n",
       "75%          1.000000         1.000000   36.250000    1.000000   \n",
       "max          1.000000         1.000000   40.000000    1.000000   \n",
       "\n",
       "       Physical activity      Result  \n",
       "count         200.000000  200.000000  \n",
       "mean            0.550000    1.750000  \n",
       "std             0.498742    1.413325  \n",
       "min             0.000000    0.000000  \n",
       "25%             0.000000    0.750000  \n",
       "50%             1.000000    1.500000  \n",
       "75%             1.000000    3.000000  \n",
       "max             1.000000    4.000000  "
      ]
     },
     "execution_count": 7,
     "metadata": {},
     "output_type": "execute_result"
    }
   ],
   "source": [
    "dataset.describe()"
   ]
  },
  {
   "cell_type": "code",
   "execution_count": 8,
   "id": "9aefa023",
   "metadata": {},
   "outputs": [
    {
     "name": "stdout",
     "output_type": "stream",
     "text": [
      "Systolic Blood pressure                           -0.417991\n",
      "Diastolic Blood pressure                           0.060914\n",
      "Age                                               -0.509094\n",
      "Gender                                            -0.160403\n",
      "Height                                            -0.607910\n",
      "Weight                                            -0.735173\n",
      "High low-density lipoprotein (LDL) cholesterol    -0.728340\n",
      "Low-density lipoprotein (LDL) cholesterol         -0.681137\n",
      "Blood Glucose level                               -0.684839\n",
      "Active smoking                                    -0.160403\n",
      "Passive smoking                                   -0.089113\n",
      "Obesity                                           -0.648677\n",
      "Diet                                              -0.160403\n",
      "Physical activity                                 -0.089113\n",
      "Result                                             1.000000\n",
      "Name: Result, dtype: float64\n"
     ]
    }
   ],
   "source": [
    "print(dataset.corr()[\"Result\"])"
   ]
  },
  {
   "cell_type": "code",
   "execution_count": 9,
   "id": "e8099bb3",
   "metadata": {},
   "outputs": [
    {
     "name": "stdout",
     "output_type": "stream",
     "text": [
      "[[<AxesSubplot:title={'center':'Systolic Blood pressure'}>\n",
      "  <AxesSubplot:title={'center':'Diastolic Blood pressure'}>\n",
      "  <AxesSubplot:title={'center':'Age'}>\n",
      "  <AxesSubplot:title={'center':'Gender'}>]\n",
      " [<AxesSubplot:title={'center':'Height'}>\n",
      "  <AxesSubplot:title={'center':'Weight'}>\n",
      "  <AxesSubplot:title={'center':'High low-density lipoprotein (LDL) cholesterol '}>\n",
      "  <AxesSubplot:title={'center':'Low-density lipoprotein (LDL) cholesterol'}>]\n",
      " [<AxesSubplot:title={'center':'Blood Glucose level'}>\n",
      "  <AxesSubplot:title={'center':'Active smoking'}>\n",
      "  <AxesSubplot:title={'center':'Passive smoking'}>\n",
      "  <AxesSubplot:title={'center':'Obesity'}>]\n",
      " [<AxesSubplot:title={'center':'Diet'}>\n",
      "  <AxesSubplot:title={'center':'Physical activity'}>\n",
      "  <AxesSubplot:title={'center':'Result'}> <AxesSubplot:>]]\n"
     ]
    },
    {
     "data": {
      "image/png": "[encoded data removed]",
      "text/plain": [
       "<Figure size 1000x1000 with 16 Axes>"
      ]
     },
     "metadata": {},
     "output_type": "display_data"
    }
   ],
   "source": [
    "a1=dataset.hist(bins=5,figsize=(10,10))\n",
    "print(a1)"
   ]
  },
  {
   "cell_type": "code",
   "execution_count": 10,
   "id": "a5eba096",
   "metadata": {},
   "outputs": [
    {
     "data": {
      "text/plain": [
       "<AxesSubplot:xlabel='Result', ylabel='count'>"
      ]
     },
     "execution_count": 10,
     "metadata": {},
     "output_type": "execute_result"
    },
    {
     "data": {
      "image/png": "[encoded data removed]",
      "text/plain": [
       "<Figure size 640x480 with 1 Axes>"
      ]
     },
     "metadata": {},
     "output_type": "display_data"
    }
   ],
   "source": [
    "y = dataset[\"Result\"]\n",
    "sns.countplot(y)"
   ]
  },
  {
   "cell_type": "markdown",
   "id": "df4204e8",
   "metadata": {},
   "source": [
    "#### Gender Feature"
   ]
  },
  {
   "cell_type": "code",
   "execution_count": 11,
   "id": "72f48e90",
   "metadata": {},
   "outputs": [
    {
     "data": {
      "text/plain": [
       "<AxesSubplot:xlabel='Gender', ylabel='Result'>"
      ]
     },
     "execution_count": 11,
     "metadata": {},
     "output_type": "execute_result"
    },
    {
     "data": {
      "image/png": "[encoded data removed]",
      "text/plain": [
       "<Figure size 640x480 with 1 Axes>"
      ]
     },
     "metadata": {},
     "output_type": "display_data"
    }
   ],
   "source": [
    "dataset[\"Gender\"].unique()\n",
    "sns.barplot(dataset[\"Gender\"],y)"
   ]
  },
  {
   "cell_type": "markdown",
   "id": "2398a980",
   "metadata": {},
   "source": [
    "### Blood Glucose level "
   ]
  },
  {
   "cell_type": "code",
   "execution_count": 12,
   "id": "392bedaa",
   "metadata": {},
   "outputs": [
    {
     "data": {
      "text/plain": [
       "<AxesSubplot:xlabel='Blood Glucose level', ylabel='Result'>"
      ]
     },
     "execution_count": 12,
     "metadata": {},
     "output_type": "execute_result"
    },
    {
     "data": {
      "image/png": "[encoded data removed]",
      "text/plain": [
       "<Figure size 640x480 with 1 Axes>"
      ]
     },
     "metadata": {},
     "output_type": "display_data"
    }
   ],
   "source": [
    "dataset[\"Blood Glucose level\"].unique()\n",
    "sns.barplot(dataset[\"Blood Glucose level\"],y)"
   ]
  },
  {
   "cell_type": "code",
   "execution_count": 13,
   "id": "298b34db",
   "metadata": {},
   "outputs": [],
   "source": [
    "x=dataset.drop(\"Result\",axis=1)\n",
    "y=dataset[\"Result\"]\n",
    "\n",
    "X_train,X_test,Y_train,Y_test = train_test_split(x,y,test_size=0.20,random_state=0)"
   ]
  },
  {
   "cell_type": "code",
   "execution_count": 14,
   "id": "050e77b8",
   "metadata": {},
   "outputs": [
    {
     "name": "stdout",
     "output_type": "stream",
     "text": [
      "(160, 14)\n",
      "(40, 14)\n",
      "(160,)\n",
      "(40,)\n"
     ]
    }
   ],
   "source": [
    "print(X_train.shape)\n",
    "print(X_test.shape)\n",
    "print(Y_train.shape)\n",
    "print(Y_test.shape)"
   ]
  },
  {
   "cell_type": "markdown",
   "id": "6a1fe87d",
   "metadata": {},
   "source": [
    "### Logistic Regression"
   ]
  },
  {
   "cell_type": "code",
   "execution_count": 15,
   "id": "015a2439",
   "metadata": {},
   "outputs": [
    {
     "name": "stderr",
     "output_type": "stream",
     "text": [
      "C:\\Users\\91984\\anaconda3\\envs\\pythonclasses\\lib\\site-packages\\sklearn\\linear_model\\_logistic.py:818: ConvergenceWarning: lbfgs failed to converge (status=1):\n",
      "STOP: TOTAL NO. of ITERATIONS REACHED LIMIT.\n",
      "\n",
      "Increase the number of iterations (max_iter) or scale the data as shown in:\n",
      "    https://scikit-learn.org/stable/modules/preprocessing.html\n",
      "Please also refer to the documentation for alternative solver options:\n",
      "    https://scikit-learn.org/stable/modules/linear_model.html#logistic-regression\n",
      "  extra_warning_msg=_LOGISTIC_SOLVER_CONVERGENCE_MSG,\n"
     ]
    },
    {
     "data": {
      "text/plain": [
       "LogisticRegression(max_iter=500)"
      ]
     },
     "execution_count": 15,
     "metadata": {},
     "output_type": "execute_result"
    }
   ],
   "source": [
    "lr = LogisticRegression(max_iter=500)\n",
    "lr.fit(X_train,Y_train)"
   ]
  },
  {
   "cell_type": "code",
   "execution_count": 16,
   "id": "8e6a650f",
   "metadata": {},
   "outputs": [],
   "source": [
    "Y_pred_lr = lr.predict(X_test)"
   ]
  },
  {
   "cell_type": "code",
   "execution_count": 19,
   "id": "3f85c988",
   "metadata": {},
   "outputs": [
    {
     "name": "stdout",
     "output_type": "stream",
     "text": [
      "The accuracy score achieved using Logistic Regression is: 100.0 %\n"
     ]
    }
   ],
   "source": [
    "score_lr = round(accuracy_score(Y_pred_lr,Y_test)*100,2)\n",
    "print(\"The accuracy score achieved using Logistic Regression is: \"+str(score_lr)+\" %\")"
   ]
  },
  {
   "cell_type": "code",
   "execution_count": 17,
   "id": "75e3d811",
   "metadata": {},
   "outputs": [],
   "source": [
    "sv = svm.SVC(kernel='linear')\n",
    "sv.fit(X_train, Y_train)\n",
    "Y_pred_svm = sv.predict(X_test)"
   ]
  },
  {
   "cell_type": "code",
   "execution_count": 18,
   "id": "1ec13921",
   "metadata": {},
   "outputs": [
    {
     "name": "stdout",
     "output_type": "stream",
     "text": [
      "The accuracy score achieved using Linear SVM is: 100.0 %\n"
     ]
    }
   ],
   "source": [
    "score_svm = round(accuracy_score(Y_pred_svm,Y_test)*100,2)\n",
    "print(\"The accuracy score achieved using Linear SVM is: \"+str(score_svm)+\" %\")"
   ]
  },
  {
   "cell_type": "code",
   "execution_count": 20,
   "id": "1f01a69f",
   "metadata": {},
   "outputs": [],
   "source": [
    "nb = GaussianNB()\n",
    "nb.fit(X_train,Y_train)\n",
    "Y_pred_nb = nb.predict(X_test)"
   ]
  },
  {
   "cell_type": "code",
   "execution_count": 21,
   "id": "127c7c7d",
   "metadata": {},
   "outputs": [
    {
     "name": "stdout",
     "output_type": "stream",
     "text": [
      "The accuracy score achieved using Naive Bayes is: 62.5 %\n"
     ]
    }
   ],
   "source": [
    "score_nb = round(accuracy_score(Y_pred_nb,Y_test)*100,2)\n",
    "print(\"The accuracy score achieved using Naive Bayes is: \"+str(score_nb)+\" %\")"
   ]
  },
  {
   "cell_type": "code",
   "execution_count": 22,
   "id": "afe2295b",
   "metadata": {},
   "outputs": [],
   "source": [
    "dt = DecisionTreeClassifier()\n",
    "dt.fit(X_train,Y_train)\n",
    "Y_pred_dt = dt.predict(X_test)"
   ]
  },
  {
   "cell_type": "code",
   "execution_count": 23,
   "id": "010f396b",
   "metadata": {},
   "outputs": [
    {
     "name": "stdout",
     "output_type": "stream",
     "text": [
      "The accuracy score achieved using Decision Tree is: 100.0 %\n"
     ]
    }
   ],
   "source": [
    "score_dt = round(accuracy_score(Y_pred_dt,Y_test)*100,2)\n",
    "print(\"The accuracy score achieved using Decision Tree is: \"+str(score_dt)+\" %\")"
   ]
  },
  {
   "cell_type": "code",
   "execution_count": 24,
   "id": "50841654",
   "metadata": {},
   "outputs": [],
   "source": [
    "rf = RandomForestClassifier()\n",
    "rf.fit(X_train,Y_train)\n",
    "Y_pred_rf = rf.predict(X_test)"
   ]
  },
  {
   "cell_type": "code",
   "execution_count": 26,
   "id": "c143d264",
   "metadata": {},
   "outputs": [
    {
     "name": "stdout",
     "output_type": "stream",
     "text": [
      "The accuracy score achieved using Decision Tree is: 100.0 %\n"
     ]
    }
   ],
   "source": [
    "score_rf = round(accuracy_score(Y_pred_rf,Y_test)*100,2)\n",
    "print(\"The accuracy score achieved using Decision Tree is: \"+str(score_rf)+\" %\")\n"
   ]
  },
  {
   "cell_type": "code",
   "execution_count": 27,
   "id": "5700552e",
   "metadata": {},
   "outputs": [],
   "source": [
    "xgb_model = xgb.XGBClassifier(max_depth=7,objective=\"binary:logistic\", random_state=42)\n",
    "xgb_model.fit(X_train, Y_train)\n",
    "Y_pred_xgb = xgb_model.predict(X_test)"
   ]
  },
  {
   "cell_type": "code",
   "execution_count": 28,
   "id": "b3a1425a",
   "metadata": {},
   "outputs": [
    {
     "name": "stdout",
     "output_type": "stream",
     "text": [
      "The accuracy score achieved using XGBoost is: 100.0 %\n"
     ]
    }
   ],
   "source": [
    "score_xgb = round(accuracy_score(Y_pred_xgb,Y_test)*100,2)\n",
    "print(\"The accuracy score achieved using XGBoost is: \"+str(score_xgb)+\" %\")"
   ]
  },
  {
   "cell_type": "code",
   "execution_count": 29,
   "id": "f37481dd",
   "metadata": {},
   "outputs": [
    {
     "name": "stdout",
     "output_type": "stream",
     "text": [
      "(160, 14) (160,)\n",
      "(160, 14) (40,)\n"
     ]
    }
   ],
   "source": [
    "scaler = MinMaxScaler()\n",
    "X_train_scaled = scaler.fit_transform(X_train)\n",
    "X_train = pd.DataFrame(X_train_scaled)\n",
    "X_test_scaled = scaler.fit_transform(X_test)\n",
    "X_test = pd.DataFrame(X_test_scaled)\n",
    "\n",
    "print (X_train.shape, Y_train.shape)\n",
    "print (X_train.shape, Y_test.shape)"
   ]
  },
  {
   "cell_type": "code",
   "execution_count": 35,
   "id": "96d35cc6",
   "metadata": {},
   "outputs": [
    {
     "name": "stdout",
     "output_type": "stream",
     "text": [
      "Accuracy score of Logistic Regression is: 100.0 %\n",
      "Accuracy score of Naive Bayes is: 62.5 %\n",
      "Accuracy score of SVM is: 100.0 %\n",
      "Accuracy score of Decision Tree is: 100.0 %\n",
      "Accuracy score of Random Forest is: 100.0 %\n",
      "Accuracy score of XGBoost is: 100.0 %\n"
     ]
    },
    {
     "ename": "IndexError",
     "evalue": "list index out of range",
     "output_type": "error",
     "traceback": [
      "\u001b[1;31m---------------------------------------------------------------------------\u001b[0m",
      "\u001b[1;31mIndexError\u001b[0m                                Traceback (most recent call last)",
      "\u001b[1;32m~\\AppData\\Local\\Temp\\ipykernel_20104\\1449657059.py\u001b[0m in \u001b[0;36m<module>\u001b[1;34m\u001b[0m\n\u001b[0;32m      3\u001b[0m \u001b[1;33m\u001b[0m\u001b[0m\n\u001b[0;32m      4\u001b[0m \u001b[1;32mfor\u001b[0m \u001b[0mi\u001b[0m \u001b[1;32min\u001b[0m \u001b[0mrange\u001b[0m\u001b[1;33m(\u001b[0m\u001b[0mlen\u001b[0m\u001b[1;33m(\u001b[0m\u001b[0ma\u001b[0m\u001b[1;33m)\u001b[0m\u001b[1;33m)\u001b[0m\u001b[1;33m:\u001b[0m\u001b[1;33m\u001b[0m\u001b[1;33m\u001b[0m\u001b[0m\n\u001b[1;32m----> 5\u001b[1;33m     \u001b[0mprint\u001b[0m\u001b[1;33m(\u001b[0m\u001b[1;34m\"Accuracy score of \"\u001b[0m\u001b[1;33m+\u001b[0m\u001b[0ma\u001b[0m\u001b[1;33m[\u001b[0m\u001b[0mi\u001b[0m\u001b[1;33m]\u001b[0m\u001b[1;33m+\u001b[0m\u001b[1;34m\" is: \"\u001b[0m\u001b[1;33m+\u001b[0m\u001b[0mstr\u001b[0m\u001b[1;33m(\u001b[0m\u001b[0ms\u001b[0m\u001b[1;33m[\u001b[0m\u001b[0mi\u001b[0m\u001b[1;33m]\u001b[0m\u001b[1;33m)\u001b[0m\u001b[1;33m+\u001b[0m\u001b[1;34m\" %\"\u001b[0m\u001b[1;33m)\u001b[0m\u001b[1;33m\u001b[0m\u001b[1;33m\u001b[0m\u001b[0m\n\u001b[0m",
      "\u001b[1;31mIndexError\u001b[0m: list index out of range"
     ]
    }
   ],
   "source": [
    "s= [score_lr,score_nb,score_svm,score_dt,score_rf,score_xgb]\n",
    "a= [\"Logistic Regression\",\"Naive Bayes\",\"SVM\",\"Decision Tree\",\"Random Forest\",\"XGBoost\",\"Keras Neural Network\"]    \n",
    "\n",
    "for i in range(len(a)):\n",
    "    print(\"Accuracy score of \"+a[i]+\" is: \"+str(s[i])+\" %\")\n"
   ]
  },
  {
   "cell_type": "code",
   "execution_count": null,
   "id": "3806a288",
   "metadata": {},
   "outputs": [],
   "source": []
  }
 ],
 "metadata": {
  "kernelspec": {
   "display_name": "Python 3 (ipykernel)",
   "language": "python",
   "name": "python3"
  },
  "language_info": {
   "codemirror_mode": {
    "name": "ipython",
    "version": 3
   },
   "file_extension": ".py",
   "mimetype": "text/x-python",
   "name": "python",
   "nbconvert_exporter": "python",
   "pygments_lexer": "ipython3",
   "version": "3.7.16"
  }
 },
 "nbformat": 4,
 "nbformat_minor": 5
}
